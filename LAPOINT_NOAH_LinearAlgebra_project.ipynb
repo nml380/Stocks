{
 "cells": [
  {
   "cell_type": "markdown",
   "metadata": {
    "id": "voFZ0_puo3LK",
    "pycharm": {
     "name": "#%% md\n"
    }
   },
   "source": [
    "Please follow the instructions carefully. Write all your code in a `Code` cell, and your explanations in a `Markdown` cell. Make sure that your code compiles correctly either by selecting a given cell and clicking the `Run` button, or by hitting `shift`+`enter` or `shift`+`return`."
   ]
  },
  {
   "cell_type": "markdown",
   "metadata": {
    "id": "MGS0XEWoL9er",
    "pycharm": {
     "name": "#%% md\n"
    }
   },
   "source": [
    "### 1. Import `numpy`, `numpy.linalg`, `matplotlib.pyplot`, and `pandas`. Use the appropriate aliases when importing these modules."
   ]
  },
  {
   "cell_type": "code",
   "execution_count": 68,
   "metadata": {
    "id": "KheDr_zDL9es",
    "pycharm": {
     "is_executing": true,
     "name": "#%%\n"
    }
   },
   "outputs": [],
   "source": [
    "# code for question 1\n",
    "import numpy as np\n",
    "import numpy.linalg as la\n",
    "import matplotlib.pyplot as plt\n",
    "import pandas as pd\n"
   ]
  },
  {
   "cell_type": "markdown",
   "metadata": {
    "id": "BnraRRm8o3Ld",
    "pycharm": {
     "name": "#%% md\n"
    }
   },
   "source": [
    "### 2. Load the data from the file named `data_stock_returns.csv` into a `DatFrame` called `returns`. The file `data_stock_returns.csv` contains daily returns of a number of stocks selected from the S&P 500 universe. The rows of the csv file represent the returns over a number of days, and the columns represent individual stocks labeled by their NYSE ticker symbol, e.g., Apple stock is labeled `AAPL`."
   ]
  },
  {
   "cell_type": "code",
   "execution_count": 225,
   "metadata": {
    "id": "Ml7wr6GSo3Le",
    "pycharm": {
     "is_executing": true,
     "name": "#%%\n"
    }
   },
   "outputs": [],
   "source": [
    "# code for question 2\n",
    "returns = pd.read_csv(\"data_stock_returns (1).csv\")"
   ]
  },
  {
   "cell_type": "markdown",
   "metadata": {
    "pycharm": {
     "name": "#%% md\n"
    }
   },
   "source": []
  },
  {
   "cell_type": "markdown",
   "metadata": {
    "id": "pFJXi4GXo3Li",
    "pycharm": {
     "name": "#%% md\n"
    }
   },
   "source": [
    "### 3. View the `head` of the `returns` `DataFrame`"
   ]
  },
  {
   "cell_type": "code",
   "execution_count": null,
   "metadata": {},
   "outputs": [],
   "source": []
  },
  {
   "cell_type": "code",
   "execution_count": 212,
   "metadata": {
    "id": "nILjqx_Do3Lk",
    "pycharm": {
     "name": "#%%\n"
    }
   },
   "outputs": [
    {
     "name": "stdout",
     "output_type": "stream",
     "text": [
      "         Date      ATVI      CHTR     CMCSA       CTL       DIS     DISCA  \\\n",
      "0  2019-01-02  0.009829  0.010542  0.009354  0.018961 -0.006221  0.043115   \n",
      "1  2019-01-03 -0.036155 -0.001703  0.007825  0.004524 -0.024525 -0.005824   \n",
      "2  2019-01-04  0.039127  0.051651  0.033218  0.027974  0.030381  0.017754   \n",
      "3  2019-01-07  0.027806 -0.004204 -0.010668  0.021706  0.008630  0.014810   \n",
      "4  2019-01-08  0.029859 -0.002524  0.008152  0.025441  0.007748  0.026410   \n",
      "\n",
      "      DISCK      DISH        EA  ...       NEE        NI       NRG       PEG  \\\n",
      "0  0.031979  0.035795  0.018333  ... -0.023222 -0.011107 -0.038352 -0.023718   \n",
      "1  0.002515  0.020651 -0.020871  ... -0.002476  0.001196 -0.009491 -0.000197   \n",
      "2  0.019072  0.068034  0.070034  ...  0.018249  0.017378  0.033601  0.010764   \n",
      "3  0.014271  0.011252  0.036862  ... -0.001450  0.005467  0.009179  0.002139   \n",
      "4  0.020041  0.002793  0.016194  ...  0.007287  0.018519  0.015114  0.003878   \n",
      "\n",
      "        PNW       PPL        SO       SRE       WEC       XEL  \n",
      "0 -0.027728 -0.007796 -0.004564 -0.013306 -0.024556 -0.021542  \n",
      "1  0.010085 -0.003564  0.014082  0.004579  0.002660 -0.003948  \n",
      "2  0.012229  0.030242  0.008310  0.029491  0.007352  0.009738  \n",
      "3 -0.001890  0.001384 -0.002239 -0.000181 -0.004552 -0.004339  \n",
      "4  0.014904  0.013059  0.028071  0.027595  0.010249  0.011530  \n",
      "\n",
      "[5 rows x 489 columns]\n"
     ]
    }
   ],
   "source": [
    "# code for question 3\n",
    "print(returns.head())"
   ]
  },
  {
   "cell_type": "markdown",
   "metadata": {
    "id": "-e82wrNwo3Lm",
    "pycharm": {
     "name": "#%% md\n"
    }
   },
   "source": [
    "### 4. View the `tail` of the `returns` `DataFrame`"
   ]
  },
  {
   "cell_type": "code",
   "execution_count": 213,
   "metadata": {
    "id": "9bxfMnXLo3Lo",
    "pycharm": {
     "name": "#%%\n"
    },
    "scrolled": true
   },
   "outputs": [
    {
     "name": "stdout",
     "output_type": "stream",
     "text": [
      "           Date      ATVI      CHTR     CMCSA       CTL       DIS     DISCA  \\\n",
      "247  2019-12-24 -0.001359  0.000291  0.009703 -0.002277  0.004207  0.003943   \n",
      "248  2019-12-26  0.001359  0.010077  0.009833 -0.003807  0.002818  0.007540   \n",
      "249  2019-12-27  0.005081 -0.004209  0.002887  0.023371  0.000343 -0.004517   \n",
      "250  2019-12-30 -0.005251 -0.001262  0.001772 -0.024134 -0.013678 -0.011231   \n",
      "251  2019-12-31  0.009129  0.004132 -0.004659  0.008362  0.005964 -0.000611   \n",
      "\n",
      "        DISCK      DISH        EA  ...       NEE        NI       NRG  \\\n",
      "247  0.007496  0.001956  0.007026  ...  0.007219 -0.000729 -0.004752   \n",
      "248  0.004212  0.008617 -0.000369  ...  0.006011 -0.002921 -0.016684   \n",
      "249 -0.005511 -0.004994 -0.000738  ...  0.002271 -0.002196  0.000000   \n",
      "250 -0.008161 -0.015700 -0.013930  ... -0.005043  0.008393  0.000000   \n",
      "251 -0.000656  0.002258  0.005409  ...  0.003599  0.011561  0.013168   \n",
      "\n",
      "          PEG       PNW       PPL        SO       SRE       WEC       XEL  \n",
      "247 -0.001537 -0.001350 -0.001122 -0.002057  0.000598  0.001529  0.003905  \n",
      "248  0.002049  0.001012 -0.002530  0.000633  0.006418  0.001418 -0.001114  \n",
      "249 -0.000853 -0.001125 -0.000281  0.004580  0.001446  0.006085  0.005242  \n",
      "250  0.001535  0.004492  0.004214 -0.001893  0.001192 -0.001518  0.002690  \n",
      "251  0.006456  0.007590  0.005870  0.005667  0.002843  0.000651  0.003155  \n",
      "\n",
      "[5 rows x 489 columns]\n"
     ]
    }
   ],
   "source": [
    "# code for question 4\n",
    "print(returns.tail())"
   ]
  },
  {
   "cell_type": "markdown",
   "metadata": {
    "id": "eYvTlY30o3Lq",
    "pycharm": {
     "name": "#%% md\n"
    }
   },
   "source": [
    "### 5. How many stocks are in this `DataFrame`?"
   ]
  },
  {
   "cell_type": "code",
   "execution_count": 214,
   "metadata": {
    "id": "EMdow3Zno3Lu",
    "pycharm": {
     "name": "#%%\n"
    }
   },
   "outputs": [
    {
     "name": "stdout",
     "output_type": "stream",
     "text": [
      "488\n"
     ]
    }
   ],
   "source": [
    "# code for question 5\n",
    "print(returns.shape[1]-1)"
   ]
  },
  {
   "cell_type": "markdown",
   "metadata": {
    "id": "9I6VxC1Po3Lw",
    "pycharm": {
     "name": "#%% md\n"
    }
   },
   "source": [
    "**ANSWER FOR QUESTION 5**: (double click here and type your answer) There are 488 stocks in this DataFrame"
   ]
  },
  {
   "cell_type": "markdown",
   "metadata": {
    "id": "UnNCCXBXo3Lz",
    "pycharm": {
     "name": "#%% md\n"
    }
   },
   "source": [
    "### 6. Over how many days are these stock returns reported?"
   ]
  },
  {
   "cell_type": "code",
   "execution_count": 215,
   "metadata": {
    "id": "_CeL4dWTo3L0",
    "pycharm": {
     "name": "#%%\n"
    }
   },
   "outputs": [
    {
     "name": "stdout",
     "output_type": "stream",
     "text": [
      "252\n"
     ]
    }
   ],
   "source": [
    "# code for question 6\n",
    "print(returns.shape[0])"
   ]
  },
  {
   "cell_type": "markdown",
   "metadata": {
    "id": "ffbJfjE-o3L1",
    "pycharm": {
     "name": "#%% md\n"
    }
   },
   "source": [
    "**ANSWER FOR QUESTION 6**: (double click here and type your answer) There are 252 stocks in this DataFrame"
   ]
  },
  {
   "cell_type": "markdown",
   "metadata": {
    "id": "lr5O5Kawo3L1",
    "pycharm": {
     "name": "#%% md\n"
    }
   },
   "source": [
    "### 7. Extract the returns of the Amazon stock only, which has a ticker symbol `AMZN`. Save it in a `Series` called `amzn_returns`."
   ]
  },
  {
   "cell_type": "code",
   "execution_count": 226,
   "metadata": {
    "id": "lREq9Jjco3L2",
    "pycharm": {
     "name": "#%%\n"
    }
   },
   "outputs": [],
   "source": [
    "# code for question 7\n",
    "amzn_returns = pd.Series(returns[\"AMZN\"])"
   ]
  },
  {
   "cell_type": "markdown",
   "metadata": {
    "id": "BOS9Qxl1o3L3",
    "pycharm": {
     "name": "#%% md\n"
    }
   },
   "source": [
    "### 8. Plot the Amazon stock returns extracted in the above cell. "
   ]
  },
  {
   "cell_type": "code",
   "execution_count": 227,
   "metadata": {
    "id": "KFfxJ4pgo3L4",
    "pycharm": {
     "name": "#%%\n"
    }
   },
   "outputs": [
    {
     "data": {
      "text/plain": [
       "[<matplotlib.lines.Line2D at 0x7fbcab6e8730>]"
      ]
     },
     "execution_count": 227,
     "metadata": {},
     "output_type": "execute_result"
    },
    {
     "data": {
      "image/png": "[encoded data removed]",
      "text/plain": [
       "<Figure size 432x288 with 1 Axes>"
      ]
     },
     "metadata": {
      "needs_background": "light"
     },
     "output_type": "display_data"
    }
   ],
   "source": [
    "# code for question 8\n",
    "plt.plot(amzn_returns)"
   ]
  },
  {
   "cell_type": "markdown",
   "metadata": {
    "id": "93EqI5Vho3L4",
    "pycharm": {
     "name": "#%% md\n"
    }
   },
   "source": [
    "### 9. Plot the cumulative sum of the Amazon stock returns using the method `.cumsum()` which acts directly on the `amzn_returns` `Series`."
   ]
  },
  {
   "cell_type": "code",
   "execution_count": 228,
   "metadata": {
    "id": "hSElpeYvo3L5",
    "pycharm": {
     "name": "#%%\n"
    }
   },
   "outputs": [
    {
     "data": {
      "text/plain": [
       "[<matplotlib.lines.Line2D at 0x7fbcab68eb20>]"
      ]
     },
     "execution_count": 228,
     "metadata": {},
     "output_type": "execute_result"
    },
    {
     "data": {
      "image/png": "[encoded data removed]",
      "text/plain": [
       "<Figure size 432x288 with 1 Axes>"
      ]
     },
     "metadata": {
      "needs_background": "light"
     },
     "output_type": "display_data"
    }
   ],
   "source": [
    "# code for question 9\n",
    "plt.plot(amzn_returns.cumsum())"
   ]
  },
  {
   "cell_type": "code",
   "execution_count": 229,
   "metadata": {
    "id": "e4RiuVn6o3L6",
    "pycharm": {
     "name": "#%%\n"
    }
   },
   "outputs": [],
   "source": [
    "# the module below will allow us to perform linear regression\n",
    "import statsmodels.api as sm"
   ]
  },
  {
   "cell_type": "markdown",
   "metadata": {
    "id": "FbZBRVSio3L6",
    "pycharm": {
     "name": "#%% md\n"
    }
   },
   "source": [
    "The function `lin_reg(x,y)` given below performs ordinary least squares (OLS) linear regression using `sm.OLS` from the `statsmodels.api` module.\n",
    "\n",
    "The code enclosed in `''' '''` is the docstring of the function `lin_reg`.\n",
    "\n",
    "`x` in the `lin_reg` function is a matrix that contains the regressors, and `y` represents the vector containing the dependent variable. Note that `x` might contain one vector or multiple vectors. In the case that `x` contains one vector $x$, the regression gives:\n",
    "\n",
    "$$ y = \\beta_0 + \\beta_1 x $$\n",
    "\n",
    "In the case that `x` contains multiple vectors $x_1, \\dots, x_k$, the regression becomes:\n",
    "\n",
    "$$ y = \\beta_0 + \\beta_1 x_1 + \\dots + \\beta_k x_k$$\n",
    "\n",
    "The $\\beta$'s are the regression coefficients obtained using least squares. Note that `sm.add_constant` is used in the function below to make `x` look like the matrix $A$ we use in least squares, whose first column contains all ones."
   ]
  },
  {
   "cell_type": "code",
   "execution_count": 230,
   "metadata": {
    "id": "UWEhWIAuo3L7",
    "pycharm": {
     "name": "#%%\n"
    }
   },
   "outputs": [],
   "source": [
    "def lin_reg(x, y):\n",
    "    '''\n",
    "    ordinary linear regression using least-squares\n",
    "    \n",
    "    Parameters\n",
    "    ----------  \n",
    "    x: regressors (numpy array)\n",
    "    y: dependent variable (numpy array)\n",
    "    \n",
    "    Returns\n",
    "    -------\n",
    "    coefficients: regression coefficients (pandas Series)\n",
    "    residuals: regression residuals (numpy array)\n",
    "    r_squared: correlation coefficient (float)\n",
    "    \n",
    "    '''\n",
    "    x = sm.add_constant(x)\n",
    "    model = sm.OLS(y, x).fit()\n",
    "    coefficients = model.params\n",
    "    residuals = model.resid\n",
    "    r_squared = model.rsquared\n",
    "    return coefficients, residuals, r_squared"
   ]
  },
  {
   "cell_type": "markdown",
   "metadata": {
    "id": "sM0SffWJo3L8",
    "pycharm": {
     "name": "#%% md\n"
    }
   },
   "source": [
    "### 10. Let's try to use the above function. Extract (as numpy array) the stock returns of:\n",
    "\n",
    "- Apple (ticker symbol `AAPL`) and call it `aapl`\n",
    "- Intel (ticker symbol `INTC`) and call it `intc`\n",
    "- Microsoft (ticker symbol `MSFT`) and call it `msft`\n",
    "- IBM (ticker symbol `IBM`) and call it `ibm`\n",
    "\n",
    "### Let `y` be the Apple stock returns, and `x` be the Intel stock returns. Use the `lin_reg` function defined above to find $y=\\beta_0 + \\beta_1 x$. "
   ]
  },
  {
   "cell_type": "code",
   "execution_count": 234,
   "metadata": {
    "id": "eYgcH6Kvo3L9",
    "pycharm": {
     "name": "#%%\n"
    }
   },
   "outputs": [
    {
     "data": {
      "text/plain": [
       "(array([0.00195633, 0.53526326]),\n",
       " array([-2.52404291e-03, -7.65933995e-02,  7.97028504e-03, -6.67246823e-03,\n",
       "         1.35529430e-02,  1.18641773e-02, -4.86231162e-03, -1.58858897e-02,\n",
       "        -1.07247855e-02,  1.55432797e-02,  1.53879143e-02,  1.95803633e-04,\n",
       "        -3.70848711e-03, -1.45523640e-02,  5.75186562e-03, -2.98588472e-02,\n",
       "         6.07322952e-02, -7.48569899e-03, -1.04235826e-02,  5.27654517e-02,\n",
       "         9.96878256e-03, -1.94589822e-02,  2.06971946e-02,  6.48551194e-03,\n",
       "        -3.81541327e-03, -1.38417615e-02,  3.47531369e-03, -6.95626072e-03,\n",
       "        -6.81518375e-03, -1.10207955e-02, -1.91331554e-03, -1.30640488e-02,\n",
       "         3.73241073e-03,  4.56260586e-03, -7.81909133e-03, -1.98071888e-03,\n",
       "        -8.82835545e-04, -2.69138170e-03,  1.03604149e-03, -9.01844862e-03,\n",
       "         5.07437855e-03, -3.32813700e-03, -1.19160641e-03, -3.97791181e-04,\n",
       "        -1.00485727e-02,  1.64015048e-03,  2.32986478e-02,  7.01368073e-03,\n",
       "        -5.47843767e-03,  1.83338490e-02,  2.12697114e-03,  1.04713435e-02,\n",
       "        -1.06047880e-02,  1.02139009e-02,  2.61181125e-02, -9.18964221e-03,\n",
       "        -9.27542064e-03, -1.89934048e-02,  9.80938885e-03, -1.27124567e-04,\n",
       "        -1.37327806e-03, -3.20140250e-03,  1.39505783e-02, -6.04082867e-03,\n",
       "        -4.44592181e-03,  7.78746330e-03,  1.28876263e-02, -1.48737560e-03,\n",
       "        -5.02457763e-04, -1.07951941e-02, -8.27313654e-03,  1.18205641e-03,\n",
       "        -5.92995314e-03,  1.46879070e-04,  2.27125216e-03, -1.68658411e-03,\n",
       "         1.27279632e-02, -2.95318612e-03, -8.57691448e-04,  4.36892366e-02,\n",
       "         1.32084943e-02, -2.06667853e-02,  4.89070913e-02, -6.26628867e-03,\n",
       "        -2.15972009e-03, -1.52774679e-02, -2.14936754e-02,  1.15531895e-02,\n",
       "         1.65077124e-02, -1.10625666e-02, -4.48839109e-02,  8.86914315e-03,\n",
       "         4.64559422e-03, -5.30860802e-03, -7.70294616e-05, -1.76272402e-02,\n",
       "         6.08681722e-03, -1.70736093e-02, -2.55823876e-02, -6.28483359e-03,\n",
       "         6.04660869e-03, -1.47842735e-02, -2.80004579e-03, -1.19167592e-02,\n",
       "        -5.02201736e-03,  1.78395140e-02,  1.69338265e-02,  6.05104760e-03,\n",
       "         1.33871893e-02,  1.86222894e-03,  8.98511200e-03,  9.45964478e-04,\n",
       "        -6.53583475e-03, -3.36744630e-03,  4.68826934e-03,  7.09164042e-03,\n",
       "        -1.48255072e-03,  4.68423377e-03, -8.42523410e-03, -4.87688116e-03,\n",
       "        -8.39172494e-03,  4.34751551e-03,  5.91369305e-03, -1.57142762e-02,\n",
       "         1.42094880e-02,  3.10191052e-03,  1.86530238e-03,  2.03883302e-03,\n",
       "        -1.98833466e-02,  4.90872544e-03,  2.75196306e-03, -1.35780246e-02,\n",
       "        -8.64691229e-03,  5.25453004e-03,  4.82084192e-03, -9.98535298e-03,\n",
       "         3.41179016e-03, -2.05219338e-02,  9.26278068e-03,  1.67757983e-03,\n",
       "        -1.47373213e-02, -2.15222822e-03,  7.39702783e-03, -2.12238077e-03,\n",
       "         2.06333597e-03,  3.02832590e-02, -1.25977560e-02, -1.44002551e-02,\n",
       "        -3.65835743e-02,  1.33092792e-02,  1.09737620e-02,  1.48435760e-02,\n",
       "         3.44591007e-03, -5.48611078e-05,  2.51588273e-02, -2.09723652e-02,\n",
       "        -4.96283465e-03,  1.20752929e-02,  8.17841380e-03,  5.27910159e-03,\n",
       "         2.54339936e-03,  1.41380256e-03, -2.80384561e-02,  9.76853766e-03,\n",
       "        -1.59995931e-02,  4.73173118e-03,  2.35559336e-03, -9.38060011e-03,\n",
       "        -1.17502008e-02, -6.79108606e-03,  4.64862610e-03, -1.07399576e-02,\n",
       "        -4.69529030e-03,  7.40637249e-03,  1.94170746e-02, -6.42116905e-03,\n",
       "        -1.68351198e-02,  6.76203009e-03,  4.24486981e-03,  9.54731773e-03,\n",
       "        -8.35287084e-03, -7.78645871e-03,  6.84093922e-04,  4.75687213e-03,\n",
       "         5.76077975e-04, -6.07705929e-03, -5.36058529e-03,  1.34583709e-02,\n",
       "         8.86678487e-03, -1.26986285e-02, -3.88936897e-04,  1.62516308e-02,\n",
       "         1.42672640e-03, -4.24580399e-03,  1.68345472e-03,  4.79310242e-03,\n",
       "         1.41282319e-02,  1.24745189e-03, -1.46587419e-02, -3.96448919e-03,\n",
       "         7.97416207e-03,  8.02074770e-03,  7.27238154e-03, -3.01211703e-03,\n",
       "         1.43662552e-02, -5.56515688e-03, -3.13990660e-02,  5.17430384e-03,\n",
       "        -2.13805067e-02, -4.54414250e-03,  2.10639054e-02,  2.62185691e-02,\n",
       "        -5.72985208e-03, -2.83637716e-03, -4.93136347e-03,  5.35330253e-03,\n",
       "        -1.24794062e-03,  5.19690685e-03, -1.49440443e-03,  1.04384564e-02,\n",
       "        -8.15974419e-03,  8.46604696e-03,  4.01697325e-04, -5.91167101e-03,\n",
       "        -9.52201472e-03, -9.40007367e-03,  2.80325759e-03,  4.39061514e-03,\n",
       "        -1.06142836e-02,  1.49425402e-02,  6.33436334e-05, -9.97780438e-03,\n",
       "        -4.97970601e-03,  7.30872057e-03,  1.20351391e-02,  1.02530673e-02,\n",
       "        -1.34107666e-02,  3.30340353e-03,  2.01591039e-03, -3.89440267e-03,\n",
       "         9.31764553e-03,  1.58509002e-02,  3.73082950e-03, -3.13283721e-03,\n",
       "        -8.30182396e-03, -1.30952344e-02,  1.16938821e-02, -2.63036099e-03,\n",
       "         1.40085229e-02, -4.65728593e-03,  8.07528318e-03,  3.26262755e-03]),\n",
       " 0.3050299157977574)"
      ]
     },
     "execution_count": 234,
     "metadata": {},
     "output_type": "execute_result"
    }
   ],
   "source": [
    "# code for question 10\n",
    "\n",
    "aapl = returns[\"AAPL\"].to_numpy()\n",
    "intc = returns[\"INTC\"].to_numpy()\n",
    "msft = returns[\"MSFT\"].to_numpy()\n",
    "ibm = returns[\"IBM\"].to_numpy()\n",
    "\n",
    "lin_reg(intc,aapl)"
   ]
  },
  {
   "cell_type": "markdown",
   "metadata": {
    "id": "kjSgDiWRo3L-",
    "pycharm": {
     "name": "#%% md\n"
    }
   },
   "source": [
    "### 11. Plot the cumulative sum of the Apple returns prediction from least squares on top of the cumulative sum of the actual Apple returns. How well do the Intel stock returns describe the Apple stock returns? Answer this question using a quantitative measure of choice to describe how well the regression describes the actual data (you should research what is standard procedure in answering these types of questions)."
   ]
  },
  {
   "cell_type": "code",
   "execution_count": 235,
   "metadata": {
    "id": "oFHxC6oWo3L_",
    "pycharm": {
     "name": "#%%\n"
    }
   },
   "outputs": [
    {
     "data": {
      "image/png": "[encoded data removed]",
      "text/plain": [
       "<Figure size 432x288 with 1 Axes>"
      ]
     },
     "metadata": {
      "needs_background": "light"
     },
     "output_type": "display_data"
    }
   ],
   "source": [
    "# code for question 11\n",
    "\n",
    "aapl_predicted_returns = .001956 + .535263*intc\n",
    "plt.plot(aapl_predicted_returns.cumsum(),label = \"Predicted AAPL Returns\")\n",
    "plt.plot(aapl.cumsum(),label = \"Actual Apple Returns\")\n",
    "plt.legend()\n",
    "plt.show()"
   ]
  },
  {
   "cell_type": "markdown",
   "metadata": {
    "id": "AohUeUtTo3L_",
    "pycharm": {
     "name": "#%% md\n"
    }
   },
   "source": [
    "**ANSWER FOR QUESTION 11**: (double click here and type your answer)\n"
   ]
  },
  {
   "cell_type": "markdown",
   "metadata": {
    "id": "VN_du4K5o3MB",
    "pycharm": {
     "name": "#%% md\n"
    }
   },
   "source": [
    "### 12. Now, let `y` be the Apple stock returns, and `x` be the Intel, Microsoft, and IBM stock returns. Use the `lin_reg` function defined above to find $y=\\beta_0 + \\beta_1 x_1 + \\beta_2 x_2 + \\beta_3 x_3$, where $x_1$ represents Intel returns, $x_2$ represents Microsoft returns, and $x_3$ represents IBM returns. "
   ]
  },
  {
   "cell_type": "code",
   "execution_count": 278,
   "metadata": {
    "id": "DUyZH_-po3MC",
    "pycharm": {
     "name": "#%%\n"
    }
   },
   "outputs": [
    {
     "name": "stdout",
     "output_type": "stream",
     "text": [
      "(const    0.001116\n",
      "INTC     0.284141\n",
      "MSFT     0.543723\n",
      "IBM      0.150586\n",
      "dtype: float64, 0     -0.000494\n",
      "1     -0.066546\n",
      "2     -0.006721\n",
      "3     -0.006419\n",
      "4      0.009922\n",
      "         ...   \n",
      "247   -0.000290\n",
      "248    0.012216\n",
      "249   -0.004122\n",
      "250    0.014456\n",
      "251    0.003302\n",
      "Length: 252, dtype: float64, 0.4704730705676301)\n"
     ]
    },
    {
     "name": "stderr",
     "output_type": "stream",
     "text": [
      "/Users/noahlapoint/opt/anaconda3/lib/python3.9/site-packages/statsmodels/tsa/tsatools.py:142: FutureWarning: In a future version of pandas all arguments of concat except for the argument 'objs' will be keyword-only\n",
      "  x = pd.concat(x[::order], 1)\n"
     ]
    }
   ],
   "source": [
    "# code for question 12\n",
    "y = aapl\n",
    "x = returns[[\"INTC\",\"MSFT\",\"IBM\"]]\n",
    "z = lin_reg(x,y)\n",
    "print(z)"
   ]
  },
  {
   "cell_type": "markdown",
   "metadata": {
    "id": "nS3SgLEQo3MD",
    "pycharm": {
     "name": "#%% md\n"
    }
   },
   "source": [
    "### 13. Plot the cumulative sum of the Apple returns prediction from least squares on top of the cumulative sum of actual Apple returns. How well do the Intel, Microsoft, and IBM stock returns describe the Apple stock returns? Answer this question using a quantitative measure of choice to describe how well the regression describes the actual data (you should research what is standard procedure in answering these types of questions)."
   ]
  },
  {
   "cell_type": "code",
   "execution_count": 241,
   "metadata": {
    "id": "UUCDe_TQo3MD",
    "pycharm": {
     "name": "#%%\n"
    }
   },
   "outputs": [
    {
     "data": {
      "image/png": "[encoded data removed]",
      "text/plain": [
       "<Figure size 432x288 with 1 Axes>"
      ]
     },
     "metadata": {
      "needs_background": "light"
     },
     "output_type": "display_data"
    }
   ],
   "source": [
    "# code for question 13\n",
    "aapl_predicted_returns = .001116 + (.284141*intc) + (.543723*msft) + (.150586*ibm)\n",
    "\n",
    "plt.plot(aapl_predicted_returns.cumsum(),label = \"Predicted AAPL Return\")\n",
    "plt.plot(aapl.cumsum(),label = \"Actual AAPl Return\")\n",
    "plt.legend()\n",
    "plt.show()"
   ]
  },
  {
   "cell_type": "markdown",
   "metadata": {
    "id": "SCQlVPNmo3ME",
    "pycharm": {
     "name": "#%% md\n"
    }
   },
   "source": [
    "**ANSWER FOR QUESTION 13**: (double click here and type your answer) The r value shows correlation. The closer that the r value is to 1, the better the data is predicted. The R value that we get is .47 which is said to indicate a moderate posotive linear relationship. Therefore, it is not the best predictor of the returns, however it was a servicable predicter.\n",
    "\n"
   ]
  },
  {
   "cell_type": "markdown",
   "metadata": {
    "id": "HbmcUm2zo3ME",
    "pycharm": {
     "name": "#%% md\n"
    }
   },
   "source": [
    "The file `SPY.csv` contains the prices of SPDR S&P 500 ETF Trust. This Exchange Traded Fund (ETF) contains a collection of assets currently present in the S&P 500 index. \n",
    "\n",
    "### 14. Load `SPY.csv` into a DataFrame called `spy_prices` using the `read_csv` method in `pandas`. Make sure to make the 'Date' column to be your index column. To do that, read the docstring for `read_csv`. "
   ]
  },
  {
   "cell_type": "code",
   "execution_count": 243,
   "metadata": {
    "id": "FSULofdLo3MF",
    "pycharm": {
     "name": "#%%\n"
    }
   },
   "outputs": [],
   "source": [
    "# code for question 14\n",
    "spy_prices = pd.read_csv(\"SPY.csv\",index_col = \"Date\")"
   ]
  },
  {
   "cell_type": "markdown",
   "metadata": {
    "id": "Q3SZG271o3MG",
    "pycharm": {
     "name": "#%% md\n"
    }
   },
   "source": [
    "### 15. Once you have downloaded the file into the `DataFrame`, observe all the available prices and dates. Show the head and tail of the `DataFrame`, and then answer the following questions:\n",
    "\n",
    "(a) Which types of prices are reported? \n",
    "\n",
    "(b) From which date to which date are these prices reported (in the entire DataFrame)?"
   ]
  },
  {
   "cell_type": "code",
   "execution_count": 246,
   "metadata": {
    "id": "Ls_7gotgo3MG",
    "pycharm": {
     "name": "#%%\n"
    }
   },
   "outputs": [
    {
     "name": "stdout",
     "output_type": "stream",
     "text": [
      "                  High         Low        Open       Close       Volume  \\\n",
      "Date                                                                      \n",
      "2015-01-02  206.880005  204.179993  206.380005  205.429993  121465900.0   \n",
      "2015-01-05  204.369995  201.350006  204.169998  201.720001  169632600.0   \n",
      "2015-01-06  202.720001  198.860001  202.089996  199.820007  209151400.0   \n",
      "2015-01-07  202.720001  200.880005  201.419998  202.309998  125346700.0   \n",
      "2015-01-08  206.160004  203.990005  204.009995  205.899994  147217800.0   \n",
      "\n",
      "             Adj Close  \n",
      "Date                    \n",
      "2015-01-02  184.260223  \n",
      "2015-01-05  180.932541  \n",
      "2015-01-06  179.228363  \n",
      "2015-01-07  181.461731  \n",
      "2015-01-08  184.681763  \n",
      "                  High         Low        Open       Close       Volume  \\\n",
      "Date                                                                      \n",
      "2020-05-26  302.190002  295.459991  301.929993  299.079987   88951400.0   \n",
      "2020-05-27  303.570007  296.869995  302.119995  303.529999  104817400.0   \n",
      "2020-05-28  306.839996  302.239990  304.649994  302.970001   90405200.0   \n",
      "2020-05-29  304.959991  299.470001  302.459991  304.320007  119265700.0   \n",
      "2020-06-01  306.209991  303.059998  303.619995  305.549988   55758300.0   \n",
      "\n",
      "             Adj Close  \n",
      "Date                    \n",
      "2020-05-26  297.769623  \n",
      "2020-05-27  302.200134  \n",
      "2020-05-28  301.642609  \n",
      "2020-05-29  302.986694  \n",
      "2020-06-01  304.211273  \n"
     ]
    }
   ],
   "source": [
    "# code for question 15\n",
    "print(spy_prices.head())\n",
    "print(spy_prices.tail())"
   ]
  },
  {
   "cell_type": "markdown",
   "metadata": {
    "id": "Tqr0o5G2o3MH",
    "pycharm": {
     "name": "#%% md\n"
    }
   },
   "source": [
    "**ANSWER FOR QUESTION 15**: (double click here and type your answer)\n",
    "\n",
    "(a) The prices reported are low, high, open, close, and volume \n",
    "\n",
    "(b) The dates are reported from 2015-01-02 up to 2020-06-01"
   ]
  },
  {
   "cell_type": "markdown",
   "metadata": {
    "id": "mljWsyHIo3MH",
    "pycharm": {
     "name": "#%% md\n"
    }
   },
   "source": [
    "### 16. Retain only the Adjusted Close price in the `spy_prices` `DataFrame`. Call the resulting `Series` `spy_adjclose`."
   ]
  },
  {
   "cell_type": "code",
   "execution_count": 247,
   "metadata": {
    "id": "NUalgy5ko3MI",
    "pycharm": {
     "name": "#%%\n"
    }
   },
   "outputs": [
    {
     "name": "stdout",
     "output_type": "stream",
     "text": [
      "Date\n",
      "2015-01-02    184.260223\n",
      "2015-01-05    180.932541\n",
      "2015-01-06    179.228363\n",
      "2015-01-07    181.461731\n",
      "2015-01-08    184.681763\n",
      "                 ...    \n",
      "2020-05-26    297.769623\n",
      "2020-05-27    302.200134\n",
      "2020-05-28    301.642609\n",
      "2020-05-29    302.986694\n",
      "2020-06-01    304.211273\n",
      "Name: Adj Close, Length: 1362, dtype: float64\n"
     ]
    }
   ],
   "source": [
    "# code for question 16\n",
    "spy_adjclose = pd.Series(spy_prices[\"Adj Close\"])\n",
    "#spy_dates = pd.Series(spy_prices[\"Date\"])\n",
    "print(spy_adjclose)"
   ]
  },
  {
   "cell_type": "markdown",
   "metadata": {
    "id": "K4PydhCVo3MJ",
    "pycharm": {
     "name": "#%% md\n"
    }
   },
   "source": [
    "### 17. Now, using the `pct_change` method in `pandas`, compute the returns on the Adjusted Close prices of SPY, and only retain the returns from '2019-01-01' to '2020-01-01'. Call the `Series` obtained `spy_returns`."
   ]
  },
  {
   "cell_type": "code",
   "execution_count": 249,
   "metadata": {
    "id": "fnfMg1rxo3MJ",
    "pycharm": {
     "name": "#%%\n"
    },
    "scrolled": true
   },
   "outputs": [
    {
     "name": "stdout",
     "output_type": "stream",
     "text": [
      "Date\n",
      "2019-01-02    0.001040\n",
      "2019-01-03   -0.023863\n",
      "2019-01-04    0.033496\n",
      "2019-01-07    0.007885\n",
      "2019-01-08    0.009395\n",
      "                ...   \n",
      "2019-12-24    0.000031\n",
      "2019-12-26    0.005323\n",
      "2019-12-27   -0.000248\n",
      "2019-12-30   -0.005513\n",
      "2019-12-31    0.002429\n",
      "Name: Adj Close, Length: 252, dtype: float64\n"
     ]
    }
   ],
   "source": [
    "# code for question 17\n",
    "spy_returns = spy_adjclose.pct_change()\n",
    "spy_returns = spy_returns.loc['2019-01-01':'2020-01-01']\n",
    "print(spy_returns)"
   ]
  },
  {
   "cell_type": "markdown",
   "metadata": {
    "id": "Op1v6eKco3MK",
    "pycharm": {
     "name": "#%% md\n"
    }
   },
   "source": [
    "### 18. Perform SVD on `returns` data that contain assets from the S&P 500, and save the left singular vectors in an array called `U`, the singular values in an array called `sing_vals`, and the right singular vectros in an array called `V`. Retain the left singular vector corresponding to the largest singular value and call is `u_sigma1`."
   ]
  },
  {
   "cell_type": "code",
   "execution_count": 251,
   "metadata": {
    "id": "ZhGtqZlJo3ML",
    "pycharm": {
     "name": "#%%\n"
    }
   },
   "outputs": [
    {
     "data": {
      "text/plain": [
       "array([[-2.61377831e-02],\n",
       "       [ 1.61545283e-01],\n",
       "       [-2.39072521e-01],\n",
       "       [-8.50919141e-02],\n",
       "       [-6.50519613e-02],\n",
       "       [-6.54989459e-02],\n",
       "       [-3.42081872e-02],\n",
       "       [-9.61532142e-03],\n",
       "       [ 2.61106863e-02],\n",
       "       [-3.66516290e-02],\n",
       "       [-2.17256697e-02],\n",
       "       [-6.56591169e-02],\n",
       "       [-1.13175003e-01],\n",
       "       [ 1.12292114e-01],\n",
       "       [ 1.46262775e-02],\n",
       "       [-5.27029066e-02],\n",
       "       [-9.20756297e-02],\n",
       "       [ 4.15309183e-02],\n",
       "       [-4.19965671e-03],\n",
       "       [-8.25840670e-02],\n",
       "       [-3.85878070e-02],\n",
       "       [-2.64600711e-02],\n",
       "       [-3.59552764e-02],\n",
       "       [-2.74447318e-02],\n",
       "       [-2.07249932e-03],\n",
       "       [ 6.85491747e-02],\n",
       "       [-4.53474533e-03],\n",
       "       [-2.22774569e-02],\n",
       "       [-9.29941909e-02],\n",
       "       [-3.39398663e-02],\n",
       "       [ 1.32384003e-02],\n",
       "       [-7.90552361e-02],\n",
       "       [-1.16513989e-02],\n",
       "       [-2.66305482e-02],\n",
       "       [ 3.52424919e-02],\n",
       "       [-4.31805646e-02],\n",
       "       [-1.29146535e-02],\n",
       "       [ 2.38675368e-02],\n",
       "       [ 7.12326108e-04],\n",
       "       [ 2.57816012e-02],\n",
       "       [-5.33638427e-02],\n",
       "       [ 3.78084001e-02],\n",
       "       [ 2.71099796e-02],\n",
       "       [ 6.88500556e-02],\n",
       "       [ 6.13648127e-02],\n",
       "       [ 2.61571787e-02],\n",
       "       [-9.29108228e-02],\n",
       "       [-1.72259542e-02],\n",
       "       [-4.15159401e-02],\n",
       "       [ 1.01911602e-02],\n",
       "       [-2.50269848e-02],\n",
       "       [-4.07107612e-02],\n",
       "       [ 4.63895693e-03],\n",
       "       [ 4.87463589e-02],\n",
       "       [-8.29946614e-02],\n",
       "       [ 1.72043515e-01],\n",
       "       [ 4.58215720e-03],\n",
       "       [-5.44977883e-02],\n",
       "       [ 2.62845209e-02],\n",
       "       [-4.35398117e-02],\n",
       "       [-4.51209454e-02],\n",
       "       [-1.07469725e-01],\n",
       "       [ 5.72467762e-03],\n",
       "       [-2.89539411e-02],\n",
       "       [-2.40215813e-02],\n",
       "       [-4.23440997e-02],\n",
       "       [-7.58926004e-03],\n",
       "       [ 6.82573030e-02],\n",
       "       [-4.34588867e-02],\n",
       "       [-1.11157907e-02],\n",
       "       [-5.62369088e-02],\n",
       "       [ 2.25374191e-02],\n",
       "       [-2.33816032e-02],\n",
       "       [ 3.35316413e-02],\n",
       "       [-1.30964092e-02],\n",
       "       [ 1.06583119e-02],\n",
       "       [-6.06983977e-02],\n",
       "       [ 9.05903068e-03],\n",
       "       [ 4.85720485e-02],\n",
       "       [-3.63287402e-02],\n",
       "       [-9.63313639e-03],\n",
       "       [-3.49947811e-03],\n",
       "       [ 6.85992930e-02],\n",
       "       [ 6.45606215e-05],\n",
       "       [-6.40718293e-02],\n",
       "       [ 4.33333198e-02],\n",
       "       [ 1.22078398e-01],\n",
       "       [ 1.13417368e-02],\n",
       "       [ 1.52841860e-02],\n",
       "       [-1.22290435e-02],\n",
       "       [ 2.09974200e-01],\n",
       "       [-7.72089917e-02],\n",
       "       [-1.89318320e-02],\n",
       "       [-4.10457282e-02],\n",
       "       [ 6.57725488e-02],\n",
       "       [ 5.28387893e-02],\n",
       "       [-8.08933146e-02],\n",
       "       [ 5.35003055e-02],\n",
       "       [ 1.12858306e-01],\n",
       "       [-1.54270207e-02],\n",
       "       [ 6.09093855e-02],\n",
       "       [ 3.81137263e-02],\n",
       "       [ 6.22021007e-03],\n",
       "       [ 1.00056918e-01],\n",
       "       [-3.01091254e-02],\n",
       "       [-1.79750075e-01],\n",
       "       [-2.03981594e-02],\n",
       "       [-2.87764632e-02],\n",
       "       [-4.89338904e-02],\n",
       "       [-4.45840102e-02],\n",
       "       [-2.25650686e-03],\n",
       "       [ 3.34457141e-02],\n",
       "       [-5.11296318e-02],\n",
       "       [ 3.85082280e-02],\n",
       "       [ 5.67150892e-03],\n",
       "       [-9.62320322e-02],\n",
       "       [-1.57071552e-02],\n",
       "       [-6.88637406e-02],\n",
       "       [ 1.56596166e-02],\n",
       "       [ 3.20811459e-02],\n",
       "       [ 4.63983417e-02],\n",
       "       [-2.64462966e-02],\n",
       "       [-4.72968889e-02],\n",
       "       [-6.48266300e-02],\n",
       "       [-5.53880391e-02],\n",
       "       [ 2.87718846e-02],\n",
       "       [-4.54120141e-02],\n",
       "       [ 5.07629312e-03],\n",
       "       [ 4.79137163e-02],\n",
       "       [ 1.39331703e-03],\n",
       "       [-3.87278661e-04],\n",
       "       [-1.83256182e-02],\n",
       "       [-6.20141567e-02],\n",
       "       [ 1.21070458e-02],\n",
       "       [ 1.03276071e-02],\n",
       "       [ 6.88425958e-02],\n",
       "       [-1.85319992e-02],\n",
       "       [ 1.01165326e-02],\n",
       "       [-8.63197382e-03],\n",
       "       [-7.07082482e-02],\n",
       "       [-6.14274447e-02],\n",
       "       [ 5.84150616e-02],\n",
       "       [-2.86512135e-02],\n",
       "       [ 2.62092969e-02],\n",
       "       [-1.11930174e-02],\n",
       "       [ 6.78316550e-02],\n",
       "       [ 1.33009392e-01],\n",
       "       [ 7.36568557e-02],\n",
       "       [ 2.05185804e-01],\n",
       "       [-6.51772920e-02],\n",
       "       [ 4.83501321e-03],\n",
       "       [-1.30081090e-01],\n",
       "       [ 7.92860483e-02],\n",
       "       [ 1.00300858e-01],\n",
       "       [-9.46059376e-02],\n",
       "       [ 2.28156643e-01],\n",
       "       [ 1.62020164e-02],\n",
       "       [-1.21299645e-01],\n",
       "       [-9.11044694e-02],\n",
       "       [ 5.51699837e-02],\n",
       "       [-5.63107626e-02],\n",
       "       [ 3.28882223e-04],\n",
       "       [ 1.99785962e-01],\n",
       "       [-4.84276629e-02],\n",
       "       [ 4.18398392e-02],\n",
       "       [-6.22018656e-02],\n",
       "       [-1.04413688e-01],\n",
       "       [-1.16957347e-02],\n",
       "       [ 7.63115034e-02],\n",
       "       [-8.94604816e-02],\n",
       "       [-1.37222439e-01],\n",
       "       [-1.20745309e-02],\n",
       "       [-6.78992026e-02],\n",
       "       [-5.75872228e-02],\n",
       "       [-5.40037317e-02],\n",
       "       [-1.13300429e-06],\n",
       "       [-1.79108800e-02],\n",
       "       [-7.52121513e-03],\n",
       "       [ 2.03768539e-02],\n",
       "       [ 1.41181733e-02],\n",
       "       [ 2.56389241e-02],\n",
       "       [ 3.40711446e-02],\n",
       "       [-4.95426671e-03],\n",
       "       [ 7.40438105e-02],\n",
       "       [-5.17439770e-02],\n",
       "       [ 2.92947976e-02],\n",
       "       [ 2.66481863e-02],\n",
       "       [-2.99429626e-02],\n",
       "       [ 1.22829586e-01],\n",
       "       [ 1.28803364e-01],\n",
       "       [-4.99705119e-02],\n",
       "       [-6.84503255e-02],\n",
       "       [ 3.36905714e-02],\n",
       "       [ 1.35602920e-01],\n",
       "       [-6.34338329e-02],\n",
       "       [-5.86252369e-02],\n",
       "       [-1.28833363e-01],\n",
       "       [ 1.40783660e-02],\n",
       "       [-7.16362023e-02],\n",
       "       [ 2.53219828e-02],\n",
       "       [-2.31904800e-02],\n",
       "       [ 1.46907121e-02],\n",
       "       [-6.14115928e-02],\n",
       "       [-5.41521550e-03],\n",
       "       [-2.23006518e-02],\n",
       "       [-4.62398856e-03],\n",
       "       [-4.39217767e-02],\n",
       "       [-3.44093313e-02],\n",
       "       [-9.57993064e-03],\n",
       "       [ 1.42857267e-02],\n",
       "       [ 4.97139207e-02],\n",
       "       [-1.11914273e-01],\n",
       "       [-7.38694779e-02],\n",
       "       [-9.00157685e-03],\n",
       "       [ 2.46015982e-02],\n",
       "       [-3.90102141e-02],\n",
       "       [-1.82601643e-02],\n",
       "       [ 2.05397429e-02],\n",
       "       [-5.53321224e-03],\n",
       "       [ 3.01866406e-02],\n",
       "       [-1.09927819e-02],\n",
       "       [-5.29504105e-02],\n",
       "       [ 1.99118537e-02],\n",
       "       [ 9.71068798e-03],\n",
       "       [ 2.88297464e-02],\n",
       "       [ 6.81562458e-03],\n",
       "       [-2.83906934e-02],\n",
       "       [-7.12416388e-02],\n",
       "       [ 1.46135326e-03],\n",
       "       [-3.23069219e-02],\n",
       "       [ 3.86810461e-02],\n",
       "       [ 5.75431906e-02],\n",
       "       [ 7.29677212e-02],\n",
       "       [-5.53409307e-02],\n",
       "       [-1.11888998e-02],\n",
       "       [-7.56724156e-02],\n",
       "       [ 2.13029981e-02],\n",
       "       [ 6.16491822e-03],\n",
       "       [-2.70721900e-02],\n",
       "       [-1.02049473e-01],\n",
       "       [ 3.09257853e-02],\n",
       "       [-4.19852448e-02],\n",
       "       [-9.39247269e-03],\n",
       "       [-5.55899095e-03],\n",
       "       [-2.05303695e-02],\n",
       "       [-3.49184193e-02],\n",
       "       [-1.62878009e-02],\n",
       "       [ 4.01306003e-04],\n",
       "       [-1.55226903e-02],\n",
       "       [ 1.42204910e-02],\n",
       "       [ 2.92187680e-02],\n",
       "       [-2.48367876e-02]])"
      ]
     },
     "execution_count": 251,
     "metadata": {},
     "output_type": "execute_result"
    }
   ],
   "source": [
    "# code for question 18\n",
    "U,sing_vals,V = la.svd(returns.iloc[:,1:].to_numpy())\n",
    "u_sigmal = U[:,[0]]\n",
    "u_sigmal\n"
   ]
  },
  {
   "cell_type": "markdown",
   "metadata": {
    "id": "z8hsxeX9o3ML",
    "pycharm": {
     "name": "#%% md\n"
    }
   },
   "source": [
    "### 19. `u_sigma1` is thought to track the market. To test that, we will perform a regression of `spy_returns` against this first left singular vector by letting `y=spy_returns` and `x=u_sigma1` and computing\n",
    "\n",
    "### $$ y = \\beta_0 + \\beta_1 x$$\n",
    "### using least squares regression."
   ]
  },
  {
   "cell_type": "code",
   "execution_count": 252,
   "metadata": {
    "id": "IQthBSxPo3MM",
    "pycharm": {
     "name": "#%%\n"
    }
   },
   "outputs": [
    {
     "name": "stdout",
     "output_type": "stream",
     "text": [
      "(const    0.000346\n",
      "x1      -0.118992\n",
      "dtype: float64, Date\n",
      "2019-01-02   -0.002416\n",
      "2019-01-03   -0.004987\n",
      "2019-01-04    0.004702\n",
      "2019-01-07   -0.002587\n",
      "2019-01-08    0.001308\n",
      "                ...   \n",
      "2019-12-24   -0.000267\n",
      "2019-12-26    0.003130\n",
      "2019-12-27    0.001098\n",
      "2019-12-30   -0.002383\n",
      "2019-12-31   -0.000872\n",
      "Length: 252, dtype: float64, 0.8987899218671398)\n"
     ]
    }
   ],
   "source": [
    "# code for question 19\n",
    "lin_return = lin_reg(u_sigmal,spy_returns)\n",
    "print(lin_return[0:4])"
   ]
  },
  {
   "cell_type": "markdown",
   "metadata": {
    "id": "idRHqOqco3MM",
    "pycharm": {
     "name": "#%% md\n"
    }
   },
   "source": [
    "### 20. Plot the cumulative sum of the result from the regression on top of the cumulative sum of `spy_returns`. What do you notice? Answer this question using a quantitative measure of choice to describe how well the regression describes the actual data (you should research what is standard procedure in answering these types of questions)."
   ]
  },
  {
   "cell_type": "code",
   "execution_count": 253,
   "metadata": {
    "id": "OZaw-XZqo3MN",
    "pycharm": {
     "name": "#%%\n"
    }
   },
   "outputs": [
    {
     "data": {
      "image/png": "[encoded data removed]",
      "text/plain": [
       "<Figure size 432x288 with 1 Axes>"
      ]
     },
     "metadata": {
      "needs_background": "light"
     },
     "output_type": "display_data"
    }
   ],
   "source": [
    "# code for question 20\n",
    "plt.plot(spy_returns.values.cumsum(), label = \"Actual Return\")\n",
    "svd_return = 0.000346 + (-.118892*u_sigmal)\n",
    "plt.plot(svd_return.cumsum(), label = \"Predicted Return\")\n",
    "plt.legend()\n",
    "plt.show()"
   ]
  },
  {
   "cell_type": "markdown",
   "metadata": {
    "id": "sDOLMEZ9o3MN",
    "pycharm": {
     "name": "#%% md\n"
    }
   },
   "source": [
    "**ANSWER FOR QUESTION 20**: (double click here and type your answer) The r value for this predicted return is very accurate. The r value for the correlation was .89 which is on the cusp of being considered a \"high positve\" which is resembles a very strong correlation. Therefore, our predicted returns accuratly predicts the actual data."
   ]
  },
  {
   "cell_type": "markdown",
   "metadata": {
    "id": "9utCD6iFo3MO",
    "pycharm": {
     "name": "#%% md\n"
    }
   },
   "source": [
    "# Congratulations! You have just implemented your first PCA regression to describe the returns on the S&P 500. Now let's shift gears a little and see how singular values and singular vectors of returns matrices are connected to eigenvalues and eigenvectors of correlation matrices."
   ]
  },
  {
   "cell_type": "markdown",
   "metadata": {
    "id": "z3XcekZdo3MP",
    "pycharm": {
     "name": "#%% md\n"
    }
   },
   "source": [
    "### 21. Compute the standardized returns of the S&P 500 and save you answer in a `DataFrame` called `sp500_standardized_returns`."
   ]
  },
  {
   "cell_type": "code",
   "execution_count": 265,
   "metadata": {
    "id": "7EL9Y8Ppo3MP",
    "pycharm": {
     "name": "#%%\n"
    },
    "scrolled": true
   },
   "outputs": [
    {
     "name": "stdout",
     "output_type": "stream",
     "text": [
      "[[ 3.92494232e-01  6.24513871e-01  6.84147031e-01 ... -1.60395134e+00\n",
      "  -2.87547025e+00 -2.52365060e+00]\n",
      " [-1.65140133e+00 -2.82494748e-01  5.56439479e-01 ...  3.40506652e-01\n",
      "   1.57027283e-01 -5.63771321e-01]\n",
      " [ 1.69473766e+00  3.66965971e+00  2.67726170e+00 ...  3.04894749e+00\n",
      "   6.79836478e-01  9.60814415e-01]\n",
      " ...\n",
      " [ 1.81464451e-01 -4.68113386e-01  1.43982643e-01 ... -1.42805177e-04\n",
      "   5.38670431e-01  4.59960899e-01]\n",
      " [-2.77789910e-01 -2.49835924e-01  5.09136066e-02 ... -2.77008694e-02\n",
      "  -3.08472816e-01  1.75651312e-01]\n",
      " [ 3.61388549e-01  1.49682419e-01 -4.86207479e-01 ...  1.51717717e-01\n",
      "  -6.68353263e-02  2.27496608e-01]]\n"
     ]
    }
   ],
   "source": [
    "# code for question 21\n",
    "from sklearn.preprocessing import StandardScaler\n",
    "\n",
    "scalar = StandardScaler()\n",
    "\n",
    "sp500_standardized_returns = pd.DataFrame(returns)\n",
    "sp500_standardized_returns = scalar.fit_transform(returns.iloc[:,1:])\n",
    "print(sp500_standardized_returns)\n",
    "#sp_500_standardized_returns = fit_transform(returns.ilic[:,1:])"
   ]
  },
  {
   "cell_type": "markdown",
   "metadata": {
    "id": "xOvFVvCGo3MQ",
    "pycharm": {
     "name": "#%% md\n"
    }
   },
   "source": [
    "### 22. Perform SVD on `sp500_standardized_returns` data and save the singular values in an array called `singvals_standardized_returns`."
   ]
  },
  {
   "cell_type": "code",
   "execution_count": 266,
   "metadata": {
    "id": "iMcbU-mxo3MQ",
    "pycharm": {
     "name": "#%%\n"
    }
   },
   "outputs": [
    {
     "name": "stdout",
     "output_type": "stream",
     "text": [
      "[1.86001557e+02 1.06919052e+02 5.98649885e+01 5.12562213e+01\n",
      " 4.65490417e+01 4.38253882e+01 4.21295971e+01 3.95359508e+01\n",
      " 3.87699299e+01 3.55193801e+01 3.43690803e+01 3.36649746e+01\n",
      " 3.32115707e+01 3.28051575e+01 3.12508994e+01 3.08198477e+01\n",
      " 3.05592132e+01 3.01477638e+01 2.97346314e+01 2.89399088e+01\n",
      " 2.85982004e+01 2.82637384e+01 2.80699382e+01 2.79278568e+01\n",
      " 2.75055507e+01 2.67591886e+01 2.66842755e+01 2.63813368e+01\n",
      " 2.62003307e+01 2.58056198e+01 2.57115621e+01 2.53415161e+01\n",
      " 2.50746676e+01 2.49603400e+01 2.46974069e+01 2.44905732e+01\n",
      " 2.41119272e+01 2.39184866e+01 2.37580438e+01 2.35317665e+01\n",
      " 2.33556813e+01 2.32075023e+01 2.31305287e+01 2.30934475e+01\n",
      " 2.27308125e+01 2.26380344e+01 2.23226419e+01 2.21984587e+01\n",
      " 2.20704957e+01 2.17464308e+01 2.16733661e+01 2.16203947e+01\n",
      " 2.13494641e+01 2.11212868e+01 2.09514203e+01 2.08095259e+01\n",
      " 2.07077521e+01 2.02830105e+01 2.02521596e+01 2.01509469e+01\n",
      " 2.00153349e+01 1.99590396e+01 1.98344943e+01 1.97579110e+01\n",
      " 1.96408140e+01 1.94394729e+01 1.93959052e+01 1.93341113e+01\n",
      " 1.91869192e+01 1.90457920e+01 1.88745248e+01 1.86783865e+01\n",
      " 1.86213989e+01 1.85352739e+01 1.84151634e+01 1.83019234e+01\n",
      " 1.82032210e+01 1.79470730e+01 1.78292167e+01 1.76719267e+01\n",
      " 1.75695406e+01 1.75288980e+01 1.73880802e+01 1.73447127e+01\n",
      " 1.72534712e+01 1.70143354e+01 1.69638736e+01 1.69280263e+01\n",
      " 1.67676671e+01 1.66808871e+01 1.65794684e+01 1.64909038e+01\n",
      " 1.64037853e+01 1.63277844e+01 1.62902520e+01 1.61173475e+01\n",
      " 1.60440836e+01 1.59272530e+01 1.57329131e+01 1.56362910e+01\n",
      " 1.55575748e+01 1.53735433e+01 1.52652806e+01 1.51889687e+01\n",
      " 1.51357112e+01 1.50607401e+01 1.49518843e+01 1.47844204e+01\n",
      " 1.47558349e+01 1.46991666e+01 1.46293069e+01 1.45061271e+01\n",
      " 1.43957223e+01 1.42747144e+01 1.41830631e+01 1.41524543e+01\n",
      " 1.39734460e+01 1.39065037e+01 1.37989568e+01 1.37180457e+01\n",
      " 1.35906294e+01 1.35155679e+01 1.34501593e+01 1.33559937e+01\n",
      " 1.31870200e+01 1.31109194e+01 1.30310182e+01 1.29801305e+01\n",
      " 1.28683775e+01 1.28418178e+01 1.26921502e+01 1.26463953e+01\n",
      " 1.25335905e+01 1.24139489e+01 1.23551818e+01 1.23240338e+01\n",
      " 1.22005921e+01 1.20926806e+01 1.20648538e+01 1.19460793e+01\n",
      " 1.18670391e+01 1.17968413e+01 1.16849540e+01 1.16334836e+01\n",
      " 1.15869231e+01 1.15638960e+01 1.14638390e+01 1.13919646e+01\n",
      " 1.12021193e+01 1.11232930e+01 1.09945649e+01 1.09568078e+01\n",
      " 1.08845174e+01 1.08510364e+01 1.07074734e+01 1.06913155e+01\n",
      " 1.05468493e+01 1.05086198e+01 1.04790034e+01 1.02793501e+01\n",
      " 1.02493848e+01 1.02215927e+01 1.01422958e+01 1.00842541e+01\n",
      " 1.00215409e+01 9.92656999e+00 9.86194079e+00 9.73616169e+00\n",
      " 9.67522507e+00 9.64569425e+00 9.60967728e+00 9.50529384e+00\n",
      " 9.47928337e+00 9.40347826e+00 9.35362405e+00 9.24147647e+00\n",
      " 9.18687614e+00 9.07576711e+00 9.01153057e+00 8.96317008e+00\n",
      " 8.89591499e+00 8.75823321e+00 8.71073855e+00 8.61222343e+00\n",
      " 8.56310278e+00 8.49029976e+00 8.37511227e+00 8.33659949e+00\n",
      " 8.27043652e+00 8.18986650e+00 8.13400579e+00 8.10222392e+00\n",
      " 7.98132815e+00 7.89635426e+00 7.86961462e+00 7.81760961e+00\n",
      " 7.77937284e+00 7.70169439e+00 7.63311426e+00 7.51784851e+00\n",
      " 7.37454137e+00 7.34595859e+00 7.33140005e+00 7.17433337e+00\n",
      " 7.09793874e+00 7.08471856e+00 6.97646991e+00 6.93576382e+00\n",
      " 6.87368605e+00 6.82139234e+00 6.76609759e+00 6.63654686e+00\n",
      " 6.62725164e+00 6.58934377e+00 6.54102036e+00 6.50910339e+00\n",
      " 6.33145540e+00 6.29432498e+00 6.23282777e+00 6.21146734e+00\n",
      " 6.06018403e+00 5.92646348e+00 5.85403714e+00 5.74772289e+00\n",
      " 5.73005562e+00 5.67170526e+00 5.64092747e+00 5.48155612e+00\n",
      " 5.44855808e+00 5.30954427e+00 5.28684746e+00 5.18481717e+00\n",
      " 5.15572726e+00 5.13042076e+00 5.03893214e+00 4.90334591e+00\n",
      " 4.78873728e+00 4.70420030e+00 4.63447895e+00 4.58542215e+00\n",
      " 4.54554152e+00 4.47880639e+00 4.26675342e+00 4.16585999e+00\n",
      " 4.11761223e+00 3.99555757e+00 3.99034983e+00 3.72402520e+00\n",
      " 3.61071987e+00 3.46576513e+00 3.26733285e+00 8.25766231e-14]\n"
     ]
    }
   ],
   "source": [
    "# code for question 22\n",
    "u, s, v = la.svd(sp500_standardized_returns)\n",
    "singvals_standardized_returns = np.array(s)\n",
    "print(singvals_standardized_returns)"
   ]
  },
  {
   "cell_type": "markdown",
   "metadata": {
    "id": "xtmQtNexo3MS",
    "pycharm": {
     "name": "#%% md\n"
    }
   },
   "source": [
    "### 23. Compute the correlation matrix of the S&P 500 returns and save the result as a `DataFrame` called `sp500_corr`. It is easiest to use the built in `pandas` method to compute correlation matrices. "
   ]
  },
  {
   "cell_type": "code",
   "execution_count": 268,
   "metadata": {
    "id": "a113a18Ho3MU",
    "pycharm": {
     "name": "#%%\n"
    }
   },
   "outputs": [
    {
     "name": "stdout",
     "output_type": "stream",
     "text": [
      "           ATVI      CHTR     CMCSA       CTL       DIS     DISCA     DISCK  \\\n",
      "ATVI   1.000000  0.206918  0.262801  0.077612  0.204631  0.167902  0.182100   \n",
      "CHTR   0.206918  1.000000  0.505437  0.154453  0.269021  0.297209  0.304711   \n",
      "CMCSA  0.262801  0.505437  1.000000  0.176776  0.369520  0.347829  0.354896   \n",
      "CTL    0.077612  0.154453  0.176776  1.000000  0.105414  0.365380  0.371403   \n",
      "DIS    0.204631  0.269021  0.369520  0.105414  1.000000  0.267041  0.294375   \n",
      "...         ...       ...       ...       ...       ...       ...       ...   \n",
      "PPL    0.068130  0.143166  0.232142  0.125933  0.094228  0.119023  0.107557   \n",
      "SO     0.027154  0.082080  0.130291 -0.061925  0.150702 -0.108276 -0.099986   \n",
      "SRE    0.114697  0.185263  0.169756  0.024476  0.249978  0.038471  0.055280   \n",
      "WEC    0.010774  0.138888  0.105805 -0.169695  0.119923 -0.172918 -0.169914   \n",
      "XEL    0.038000  0.184257  0.193725 -0.117967  0.195905 -0.110884 -0.109743   \n",
      "\n",
      "           DISH        EA        FB  ...       NEE        NI       NRG  \\\n",
      "ATVI   0.136099  0.563535  0.372576  ...  0.012736  0.183840  0.148949   \n",
      "CHTR   0.356974  0.210798  0.467210  ...  0.171468  0.146685  0.214851   \n",
      "CMCSA  0.362213  0.165238  0.353877  ...  0.123246  0.204658  0.225813   \n",
      "CTL    0.194719  0.144104  0.097236  ... -0.099621 -0.038359  0.088011   \n",
      "DIS    0.236062  0.162910  0.251893  ...  0.142103  0.183875  0.128499   \n",
      "...         ...       ...       ...  ...       ...       ...       ...   \n",
      "PPL    0.155584  0.186064  0.110712  ...  0.443621  0.418001  0.348481   \n",
      "SO     0.067194  0.164438  0.034642  ...  0.659916  0.610121  0.328128   \n",
      "SRE    0.187340  0.137067  0.192123  ...  0.598093  0.576184  0.350399   \n",
      "WEC    0.008132  0.084299  0.022637  ...  0.797358  0.660328  0.324822   \n",
      "XEL    0.044894  0.099955  0.083992  ...  0.805189  0.655178  0.375721   \n",
      "\n",
      "            PEG       PNW       PPL        SO       SRE       WEC       XEL  \n",
      "ATVI   0.061486  0.043167  0.068130  0.027154  0.114697  0.010774  0.038000  \n",
      "CHTR   0.207329  0.083723  0.143166  0.082080  0.185263  0.138888  0.184257  \n",
      "CMCSA  0.213148  0.150910  0.232142  0.130291  0.169756  0.105805  0.193725  \n",
      "CTL   -0.080473 -0.176768  0.125933 -0.061925  0.024476 -0.169695 -0.117967  \n",
      "DIS    0.174423  0.110018  0.094228  0.150702  0.249978  0.119923  0.195905  \n",
      "...         ...       ...       ...       ...       ...       ...       ...  \n",
      "PPL    0.508400  0.480013  1.000000  0.453733  0.440528  0.399896  0.493804  \n",
      "SO     0.638657  0.659016  0.453733  1.000000  0.549019  0.686294  0.708542  \n",
      "SRE    0.587285  0.552758  0.440528  0.549019  1.000000  0.569076  0.632961  \n",
      "WEC    0.668398  0.796743  0.399896  0.686294  0.569076  1.000000  0.889519  \n",
      "XEL    0.687793  0.757116  0.493804  0.708542  0.632961  0.889519  1.000000  \n",
      "\n",
      "[488 rows x 488 columns]\n"
     ]
    }
   ],
   "source": [
    "# code for question 23\n",
    "\n",
    "sp500_corr = pd.DataFrame.corr(returns)\n",
    "print(sp500_corr)"
   ]
  },
  {
   "cell_type": "markdown",
   "metadata": {
    "id": "2Hwcv--io3MU",
    "pycharm": {
     "name": "#%% md\n"
    }
   },
   "source": [
    "### 24. Compute the eigenvalues and eigenvectors of the correlation matrix. Save the results in arrays called `eigvals_corr` and `eigvecs_corr`. How are the eigenvalues of `sp500_corr` related to the singular values of `sp500_standardized_returns`? You should derive this result theoretically."
   ]
  },
  {
   "cell_type": "code",
   "execution_count": 276,
   "metadata": {
    "id": "5AkzRW57o3MV",
    "pycharm": {
     "name": "#%%\n"
    }
   },
   "outputs": [
    {
     "name": "stdout",
     "output_type": "stream",
     "text": [
      "[ 1.37288012e+02+0.00000000e+00j  4.53638240e+01+0.00000000e+00j\n",
      "  1.42214954e+01+0.00000000e+00j  1.04253977e+01+0.00000000e+00j\n",
      "  8.59846542e+00+0.00000000e+00j  7.62168512e+00+0.00000000e+00j\n",
      "  7.04326569e+00+0.00000000e+00j  6.20274367e+00+0.00000000e+00j\n",
      "  5.96471216e+00+0.00000000e+00j  5.00645381e+00+0.00000000e+00j\n",
      "  4.68743525e+00+0.00000000e+00j  4.49734331e+00+0.00000000e+00j\n",
      "  4.37701758e+00+0.00000000e+00j  4.27054905e+00+0.00000000e+00j\n",
      "  3.87547109e+00+0.00000000e+00j  3.76929768e+00+0.00000000e+00j\n",
      "  3.70581553e+00+0.00000000e+00j  3.60669707e+00+0.00000000e+00j\n",
      "  3.50852501e+00+0.00000000e+00j  3.32348541e+00+0.00000000e+00j\n",
      "  3.24546454e+00+0.00000000e+00j  3.16999567e+00+0.00000000e+00j\n",
      "  3.12667234e+00+0.00000000e+00j  3.09509993e+00+0.00000000e+00j\n",
      "  3.00220365e+00+0.00000000e+00j  2.84148481e+00+0.00000000e+00j\n",
      "  2.82559746e+00+0.00000000e+00j  2.76180527e+00+0.00000000e+00j\n",
      "  2.72403701e+00+0.00000000e+00j  2.64257943e+00+0.00000000e+00j\n",
      "  2.62335089e+00+0.00000000e+00j  2.54838268e+00+0.00000000e+00j\n",
      "  2.49499585e+00+0.00000000e+00j  2.47229592e+00+0.00000000e+00j\n",
      "  2.38011181e+00+0.00000000e+00j  2.30708346e+00+0.00000000e+00j\n",
      "  2.42048376e+00+0.00000000e+00j  2.27021429e+00+0.00000000e+00j\n",
      "  2.23985970e+00+0.00000000e+00j  2.19739697e+00+0.00000000e+00j\n",
      "  2.16463431e+00+0.00000000e+00j  2.13725462e+00+0.00000000e+00j\n",
      "  2.12310062e+00+0.00000000e+00j  2.11629889e+00+0.00000000e+00j\n",
      "  2.05035649e+00+0.00000000e+00j  2.03365318e+00+0.00000000e+00j\n",
      "  1.97738231e+00+0.00000000e+00j  1.95544273e+00+0.00000000e+00j\n",
      "  1.93296341e+00+0.00000000e+00j  1.87661608e+00+0.00000000e+00j\n",
      "  1.85492646e+00+0.00000000e+00j  1.86402698e+00+0.00000000e+00j\n",
      "  1.80872864e+00+0.00000000e+00j  1.77027285e+00+0.00000000e+00j\n",
      "  1.74191275e+00+0.00000000e+00j  1.71839829e+00+0.00000000e+00j\n",
      "  1.70163095e+00+0.00000000e+00j  1.63254172e+00+0.00000000e+00j\n",
      "  1.62757925e+00+0.00000000e+00j  1.61135184e+00+0.00000000e+00j\n",
      "  1.58973663e+00+0.00000000e+00j  1.58080659e+00+0.00000000e+00j\n",
      "  1.56113955e+00+0.00000000e+00j  1.54910732e+00+0.00000000e+00j\n",
      "  1.53079990e+00+0.00000000e+00j  1.49957582e+00+0.00000000e+00j\n",
      "  1.49286166e+00+0.00000000e+00j  1.48336453e+00+0.00000000e+00j\n",
      "  1.46086456e+00+0.00000000e+00j  1.43945314e+00+0.00000000e+00j\n",
      "  1.31490974e+00+0.00000000e+00j  1.32920794e+00+0.00000000e+00j\n",
      "  1.41368129e+00+0.00000000e+00j  1.34570731e+00+0.00000000e+00j\n",
      "  1.36331896e+00+0.00000000e+00j  1.37601785e+00+0.00000000e+00j\n",
      "  1.38445286e+00+0.00000000e+00j  1.27816440e+00+0.00000000e+00j\n",
      "  1.26143242e+00+0.00000000e+00j  1.23927378e+00+0.00000000e+00j\n",
      "  1.22495538e+00+0.00000000e+00j  1.21929470e+00+0.00000000e+00j\n",
      "  1.19978307e+00+0.00000000e+00j  1.19380580e+00+0.00000000e+00j\n",
      "  1.18127885e+00+0.00000000e+00j  9.24717429e-01+0.00000000e+00j\n",
      "  9.37880296e-01+0.00000000e+00j  1.14876036e+00+0.00000000e+00j\n",
      "  1.14195638e+00+0.00000000e+00j  1.13713521e+00+0.00000000e+00j\n",
      "  9.60468788e-01+0.00000000e+00j  9.70212686e-01+0.00000000e+00j\n",
      "  9.82240297e-01+0.00000000e+00j  1.11569310e+00+0.00000000e+00j\n",
      "  1.00665631e+00+0.00000000e+00j  1.10417458e+00+0.00000000e+00j\n",
      "  1.09078878e+00+0.00000000e+00j  1.02147865e+00+0.00000000e+00j\n",
      "  1.03082894e+00+0.00000000e+00j  1.07916631e+00+0.00000000e+00j\n",
      "  1.06779433e+00+0.00000000e+00j  1.05306472e+00+0.00000000e+00j\n",
      "  1.05792279e+00+0.00000000e+00j  9.15495115e-01+0.00000000e+00j\n",
      "  9.09086327e-01+0.00000000e+00j  9.00102743e-01+0.00000000e+00j\n",
      "  8.87138267e-01+0.00000000e+00j  8.67377325e-01+0.00000000e+00j\n",
      "  8.64026441e-01+0.00000000e+00j  8.57402769e-01+0.00000000e+00j\n",
      "  8.49272308e-01+0.00000000e+00j  8.35030651e-01+0.00000000e+00j\n",
      "  8.22368332e-01+0.00000000e+00j  8.08601071e-01+0.00000000e+00j\n",
      "  7.98251104e-01+0.00000000e+00j  7.94809370e-01+0.00000000e+00j\n",
      "  6.90069429e-01+0.00000000e+00j  7.74830131e-01+0.00000000e+00j\n",
      "  7.67423994e-01+0.00000000e+00j  7.55600039e-01+0.00000000e+00j\n",
      "  7.46764994e-01+0.00000000e+00j  7.07867334e-01+0.00000000e+00j\n",
      "  7.32957178e-01+0.00000000e+00j  7.17884064e-01+0.00000000e+00j\n",
      "  7.24883232e-01+0.00000000e+00j  6.82127809e-01+0.00000000e+00j\n",
      "  6.73839033e-01+0.00000000e+00j  6.68586464e-01+0.00000000e+00j\n",
      "  6.57123573e-01+0.00000000e+00j  6.54413824e-01+0.00000000e+00j\n",
      "  6.39248715e-01+0.00000000e+00j  6.34648069e-01+0.00000000e+00j\n",
      "  6.23376546e-01+0.00000000e+00j  6.11532248e-01+0.00000000e+00j\n",
      "  6.05756024e-01+0.00000000e+00j  6.02705591e-01+0.00000000e+00j\n",
      "  5.90692253e-01+0.00000000e+00j  5.80289386e-01+0.00000000e+00j\n",
      "  5.77621811e-01+0.00000000e+00j  5.66304803e-01+0.00000000e+00j\n",
      "  5.58835785e-01+0.00000000e+00j  5.52243904e-01+0.00000000e+00j\n",
      "  5.21506364e-01+0.00000000e+00j  5.41818057e-01+0.00000000e+00j\n",
      "  5.37055316e-01+0.00000000e+00j  5.30649564e-01+0.00000000e+00j\n",
      "  5.32765027e-01+0.00000000e+00j  5.14987527e-01+0.00000000e+00j\n",
      "  4.97966181e-01+0.00000000e+00j  4.90982731e-01+0.00000000e+00j\n",
      "  4.79684352e-01+0.00000000e+00j  4.76395386e-01+0.00000000e+00j\n",
      "  4.70129836e-01+0.00000000e+00j  4.67242029e-01+0.00000000e+00j\n",
      "  4.54960267e-01+0.00000000e+00j  4.53588200e-01+0.00000000e+00j\n",
      "  4.41412814e-01+0.00000000e+00j  4.38218609e-01+0.00000000e+00j\n",
      "  4.35752033e-01+0.00000000e+00j  4.19305712e-01+0.00000000e+00j\n",
      "  4.16864638e-01+0.00000000e+00j  4.14606976e-01+0.00000000e+00j\n",
      "  4.08199068e-01+0.00000000e+00j  4.03540404e-01+0.00000000e+00j\n",
      "  3.91019015e-01+0.00000000e+00j  3.98536837e-01+0.00000000e+00j\n",
      "  3.76162081e-01+0.00000000e+00j  3.71468176e-01+0.00000000e+00j\n",
      "  3.69204038e-01+0.00000000e+00j  3.66451974e-01+0.00000000e+00j\n",
      "  3.56574656e-01+0.00000000e+00j  3.58534171e-01+0.00000000e+00j\n",
      "  3.85943953e-01+0.00000000e+00j  3.50894458e-01+0.00000000e+00j\n",
      "  3.47183662e-01+0.00000000e+00j  3.38908283e-01+0.00000000e+00j\n",
      "  3.34915449e-01+0.00000000e+00j  3.26863288e-01+0.00000000e+00j\n",
      "  3.22252711e-01+0.00000000e+00j  3.18803246e-01+0.00000000e+00j\n",
      "  3.14036919e-01+0.00000000e+00j  3.04391464e-01+0.00000000e+00j\n",
      "  1.45737423e-01+0.00000000e+00j  3.01099071e-01+0.00000000e+00j\n",
      "  2.94326954e-01+0.00000000e+00j  2.90979084e-01+0.00000000e+00j\n",
      "  2.86052342e-01+0.00000000e+00j  1.81666971e-01+0.00000000e+00j\n",
      "  1.84648387e-01+0.00000000e+00j  1.93139415e-01+0.00000000e+00j\n",
      "  2.75789250e-01+0.00000000e+00j  2.78343276e-01+0.00000000e+00j\n",
      "  2.71429049e-01+0.00000000e+00j  1.99923549e-01+0.00000000e+00j\n",
      "  2.14139316e-01+0.00000000e+00j  2.24277961e-01+0.00000000e+00j\n",
      "  2.15808970e-01+0.00000000e+00j  2.31208069e-01+0.00000000e+00j\n",
      "  2.60500129e-01+0.00000000e+00j  2.52784123e-01+0.00000000e+00j\n",
      "  2.35381335e-01+0.00000000e+00j  2.66166323e-01+0.00000000e+00j\n",
      "  2.40153340e-01+0.00000000e+00j  2.45757279e-01+0.00000000e+00j\n",
      "  2.47430200e-01+0.00000000e+00j  2.42519921e-01+0.00000000e+00j\n",
      "  2.62547818e-01+0.00000000e+00j  4.23629522e-02+0.00000000e+00j\n",
      "  4.76647934e-02+0.00000000e+00j  2.13291376e-01+0.00000000e+00j\n",
      "  2.04250236e-01+0.00000000e+00j  1.99179512e-01+0.00000000e+00j\n",
      "  1.90892142e-01+0.00000000e+00j  1.87490317e-01+0.00000000e+00j\n",
      "  7.22427966e-02+0.00000000e+00j  6.72806764e-02+0.00000000e+00j\n",
      "  6.88666248e-02+0.00000000e+00j  1.69781537e-01+0.00000000e+00j\n",
      "  1.74287557e-01+0.00000000e+00j  1.68128678e-01+0.00000000e+00j\n",
      "  1.59076696e-01+0.00000000e+00j  1.53104470e-01+0.00000000e+00j\n",
      "  1.57216377e-01+0.00000000e+00j  1.39376863e-01+0.00000000e+00j\n",
      "  7.96020106e-02+0.00000000e+00j  8.19918559e-02+0.00000000e+00j\n",
      "  9.10000188e-02+0.00000000e+00j  8.34368901e-02+0.00000000e+00j\n",
      "  9.54079409e-02+0.00000000e+00j  1.35991075e-01+0.00000000e+00j\n",
      "  1.00757290e-01+0.00000000e+00j  1.19235943e-01+0.00000000e+00j\n",
      "  1.17804703e-01+0.00000000e+00j  1.11870081e-01+0.00000000e+00j\n",
      "  1.10915698e-01+0.00000000e+00j  1.04449274e-01+0.00000000e+00j\n",
      "  1.05482236e-01+0.00000000e+00j  1.31096502e-01+0.00000000e+00j\n",
      "  1.27651748e-01+0.00000000e+00j  1.26270090e-01+0.00000000e+00j\n",
      "  1.30291815e-01+0.00000000e+00j  5.17353095e-02+0.00000000e+00j\n",
      "  5.50331891e-02+0.00000000e+00j  6.31860784e-02+0.00000000e+00j\n",
      "  6.33511122e-02+0.00000000e+00j  8.52317269e-02+0.00000000e+00j\n",
      "  8.78154782e-02+0.00000000e+00j  1.06675909e-01+0.00000000e+00j\n",
      "  1.54159294e-01+0.00000000e+00j  1.72299410e-01+0.00000000e+00j\n",
      "  1.74776802e-01+0.00000000e+00j  5.76592295e-15+0.00000000e+00j\n",
      "  5.27436729e-15+0.00000000e+00j -5.15552210e-15+3.56212438e-16j\n",
      " -5.15552210e-15-3.56212438e-16j -4.87964560e-15+0.00000000e+00j\n",
      " -4.50825414e-15+6.82439999e-16j -4.50825414e-15-6.82439999e-16j\n",
      " -4.56869806e-15+2.30699345e-16j -4.56869806e-15-2.30699345e-16j\n",
      " -4.45803520e-15+0.00000000e+00j -4.06482825e-15+4.05027366e-16j\n",
      " -4.06482825e-15-4.05027366e-16j -4.06534632e-15+2.24525536e-16j\n",
      " -4.06534632e-15-2.24525536e-16j -4.08542554e-15+0.00000000e+00j\n",
      " -3.86044971e-15+0.00000000e+00j -3.51710479e-15+8.88009774e-16j\n",
      " -3.51710479e-15-8.88009774e-16j -3.54306507e-15+6.34629368e-16j\n",
      " -3.54306507e-15-6.34629368e-16j  4.80122381e-15+0.00000000e+00j\n",
      "  4.60224063e-15+3.25030439e-16j  4.60224063e-15-3.25030439e-16j\n",
      "  4.49643177e-15+2.48718708e-16j  4.49643177e-15-2.48718708e-16j\n",
      "  4.27553365e-15+8.09248710e-17j  4.27553365e-15-8.09248710e-17j\n",
      "  3.68286958e-15+6.63254253e-16j  3.68286958e-15-6.63254253e-16j\n",
      "  4.02593341e-15+0.00000000e+00j  3.89504926e-15+3.83736697e-16j\n",
      "  3.89504926e-15-3.83736697e-16j  3.84049962e-15+0.00000000e+00j\n",
      "  3.72962754e-15+3.37279806e-16j  3.72962754e-15-3.37279806e-16j\n",
      "  3.47590562e-15+3.95389022e-16j  3.47590562e-15-3.95389022e-16j\n",
      "  2.93577518e-15+1.09639651e-15j  2.93577518e-15-1.09639651e-15j\n",
      "  3.23772840e-15+8.45537641e-16j  3.23772840e-15-8.45537641e-16j\n",
      "  2.98518525e-15+6.43901349e-16j  2.98518525e-15-6.43901349e-16j\n",
      "  3.22385447e-15+3.96444842e-16j  3.22385447e-15-3.96444842e-16j\n",
      "  3.22270529e-15+1.79414053e-16j  3.22270529e-15-1.79414053e-16j\n",
      "  3.36299177e-15+0.00000000e+00j  2.92205090e-15+4.06578698e-16j\n",
      "  2.92205090e-15-4.06578698e-16j  2.98226905e-15+2.23394159e-16j\n",
      "  2.98226905e-15-2.23394159e-16j -2.41053688e-15+1.49369691e-15j\n",
      " -2.41053688e-15-1.49369691e-15j -3.15226564e-15+7.55313449e-16j\n",
      " -3.15226564e-15-7.55313449e-16j -3.38493541e-15+4.13699025e-16j\n",
      " -3.38493541e-15-4.13699025e-16j -3.46997155e-15+0.00000000e+00j\n",
      " -3.11667470e-15+3.80915399e-16j -3.11667470e-15-3.80915399e-16j\n",
      " -3.33932656e-15+1.28724824e-16j -3.33932656e-15-1.28724824e-16j\n",
      " -3.31043396e-15+0.00000000e+00j -3.19840122e-15+1.77776272e-16j\n",
      " -3.19840122e-15-1.77776272e-16j -2.95852412e-15+1.05752571e-16j\n",
      " -2.95852412e-15-1.05752571e-16j -2.71027356e-15+7.05498127e-16j\n",
      " -2.71027356e-15-7.05498127e-16j -2.43864624e-15+8.95322307e-16j\n",
      " -2.43864624e-15-8.95322307e-16j -2.84837545e-15+3.89010407e-16j\n",
      " -2.84837545e-15-3.89010407e-16j -2.78980415e-15+2.21469501e-16j\n",
      " -2.78980415e-15-2.21469501e-16j  2.53058497e-15+8.69337444e-16j\n",
      "  2.53058497e-15-8.69337444e-16j  2.90960946e-15+0.00000000e+00j\n",
      "  2.55836147e-15+4.94568803e-16j  2.55836147e-15-4.94568803e-16j\n",
      "  2.56722861e-15+2.61449520e-16j  2.56722861e-15-2.61449520e-16j\n",
      "  1.44394848e-15+1.47354308e-15j  1.44394848e-15-1.47354308e-15j\n",
      "  2.37139033e-15+5.54889440e-16j  2.37139033e-15-5.54889440e-16j\n",
      "  2.52212917e-15+0.00000000e+00j  2.38757549e-15+2.34739842e-16j\n",
      "  2.38757549e-15-2.34739842e-16j -2.46431870e-15+5.44913594e-16j\n",
      " -2.46431870e-15-5.44913594e-16j -2.32166619e-15+6.04090808e-16j\n",
      " -2.32166619e-15-6.04090808e-16j -2.50266082e-15+2.71213437e-16j\n",
      " -2.50266082e-15-2.71213437e-16j -2.41786313e-15+1.42550295e-16j\n",
      " -2.41786313e-15-1.42550295e-16j  2.34535741e-15+0.00000000e+00j\n",
      "  1.99481790e-15+7.94816253e-16j  1.99481790e-15-7.94816253e-16j\n",
      "  2.10538361e-15+5.69968292e-16j  2.10538361e-15-5.69968292e-16j\n",
      "  1.58889201e-15+1.04631049e-15j  1.58889201e-15-1.04631049e-15j\n",
      " -1.08167182e-15+1.45010283e-15j -1.08167182e-15-1.45010283e-15j\n",
      " -1.84297919e-15+1.06772154e-15j -1.84297919e-15-1.06772154e-15j\n",
      " -2.19049699e-15+2.94598046e-16j -2.19049699e-15-2.94598046e-16j\n",
      " -1.87682929e-15+7.21749193e-16j -1.87682929e-15-7.21749193e-16j\n",
      " -1.65569369e-15+8.56164437e-16j -1.65569369e-15-8.56164437e-16j\n",
      " -2.16281632e-15+0.00000000e+00j  7.76285152e-16+1.10142644e-15j\n",
      "  7.76285152e-16-1.10142644e-15j  2.05419454e-15+4.09124547e-16j\n",
      "  2.05419454e-15-4.09124547e-16j  2.05271524e-15+3.22292938e-16j\n",
      "  2.05271524e-15-3.22292938e-16j  2.08055372e-15+5.96717648e-17j\n",
      "  2.08055372e-15-5.96717648e-17j -1.06045367e-15+9.95746538e-16j\n",
      " -1.06045367e-15-9.95746538e-16j -1.95669925e-15+2.71351317e-16j\n",
      " -1.95669925e-15-2.71351317e-16j -1.65633495e-15+5.79631299e-16j\n",
      " -1.65633495e-15-5.79631299e-16j -1.91177906e-15+1.04229117e-16j\n",
      " -1.91177906e-15-1.04229117e-16j -7.13460657e-16+1.04535922e-15j\n",
      " -7.13460657e-16-1.04535922e-15j  3.47851683e-16+1.12173466e-15j\n",
      "  3.47851683e-16-1.12173466e-15j  1.35283161e-15+8.12832434e-16j\n",
      "  1.35283161e-15-8.12832434e-16j  9.71714602e-16+9.30961271e-16j\n",
      "  9.71714602e-16-9.30961271e-16j -1.03269945e-16+1.02104006e-15j\n",
      " -1.03269945e-16-1.02104006e-15j  1.64702026e-15+4.76415265e-16j\n",
      "  1.64702026e-15-4.76415265e-16j  1.71776247e-15+1.10384650e-16j\n",
      "  1.71776247e-15-1.10384650e-16j  1.18245643e-15+6.92642381e-16j\n",
      "  1.18245643e-15-6.92642381e-16j  1.74471579e-15+0.00000000e+00j\n",
      "  1.43723052e-15+4.90499715e-16j  1.43723052e-15-4.90499715e-16j\n",
      "  1.58276959e-15+2.98742564e-16j  1.58276959e-15-2.98742564e-16j\n",
      " -4.55095377e-16+8.67699685e-16j -4.55095377e-16-8.67699685e-16j\n",
      " -1.36745720e-15+5.75664126e-16j -1.36745720e-15-5.75664126e-16j\n",
      " -1.52422188e-15+3.80978074e-16j -1.52422188e-15-3.80978074e-16j\n",
      "  5.55569371e-16+7.50070588e-16j  5.55569371e-16-7.50070588e-16j\n",
      "  1.08610188e-15+5.70711797e-16j  1.08610188e-15-5.70711797e-16j\n",
      "  1.49658925e-15+2.27585290e-17j  1.49658925e-15-2.27585290e-17j\n",
      "  1.37362019e-15+2.26123884e-16j  1.37362019e-15-2.26123884e-16j\n",
      " -1.60023284e-15+9.79646915e-17j -1.60023284e-15-9.79646915e-17j\n",
      " -1.57401609e-15+0.00000000e+00j -1.33132299e-15+3.76649770e-16j\n",
      " -1.33132299e-15-3.76649770e-16j -1.08461831e-15+5.01326749e-16j\n",
      " -1.08461831e-15-5.01326749e-16j -1.33318874e-15+1.81317519e-16j\n",
      " -1.33318874e-15-1.81317519e-16j  1.95682217e-16+7.22367938e-16j\n",
      "  1.95682217e-16-7.22367938e-16j  1.31418694e-15+0.00000000e+00j\n",
      " -1.32381741e-15+1.63399985e-17j -1.32381741e-15-1.63399985e-17j\n",
      " -8.80936413e-16+4.65730322e-16j -8.80936413e-16-4.65730322e-16j\n",
      " -1.94934686e-16+6.95608162e-16j -1.94934686e-16-6.95608162e-16j\n",
      "  5.15972908e-17+6.78522793e-16j  5.15972908e-17-6.78522793e-16j\n",
      "  1.10854629e-15+2.08521206e-16j  1.10854629e-15-2.08521206e-16j\n",
      "  6.21361873e-16+5.13985284e-16j  6.21361873e-16-5.13985284e-16j\n",
      " -3.17577686e-16+5.72512730e-16j -3.17577686e-16-5.72512730e-16j\n",
      "  8.78247806e-16+2.85316427e-16j  8.78247806e-16-2.85316427e-16j\n",
      "  9.68658537e-16+1.04502158e-16j  9.68658537e-16-1.04502158e-16j\n",
      "  7.15429299e-16+3.67222781e-16j  7.15429299e-16-3.67222781e-16j\n",
      "  7.83066900e-16+1.93961793e-16j  7.83066900e-16-1.93961793e-16j\n",
      " -1.00637119e-15+2.64452982e-16j -1.00637119e-15-2.64452982e-16j\n",
      " -5.27921100e-16+4.58147714e-16j -5.27921100e-16-4.58147714e-16j\n",
      " -7.58897643e-16+3.53432618e-16j -7.58897643e-16-3.53432618e-16j\n",
      " -1.03998665e-15+0.00000000e+00j -9.30388493e-16+0.00000000e+00j\n",
      " -5.18402005e-16+3.66568488e-16j -5.18402005e-16-3.66568488e-16j\n",
      "  2.41801872e-16+4.21171450e-16j  2.41801872e-16-4.21171450e-16j\n",
      " -8.92794070e-17+4.64781653e-16j -8.92794070e-17-4.64781653e-16j\n",
      "  7.27922753e-16+0.00000000e+00j  4.72150327e-16+3.56259749e-16j\n",
      "  4.72150327e-16-3.56259749e-16j -7.99280767e-16+0.00000000e+00j\n",
      " -7.38622104e-16+0.00000000e+00j -6.91745212e-16+0.00000000e+00j\n",
      "  5.29777768e-16+1.54517372e-16j  5.29777768e-16-1.54517372e-16j\n",
      " -1.41443581e-16+2.91991994e-16j -1.41443581e-16-2.91991994e-16j\n",
      "  5.15906832e-17+2.75193656e-16j  5.15906832e-17-2.75193656e-16j\n",
      " -3.13910188e-16+2.30656238e-16j -3.13910188e-16-2.30656238e-16j\n",
      " -3.60794136e-16+1.35582752e-16j -3.60794136e-16-1.35582752e-16j\n",
      "  3.00046876e-16+1.81796093e-16j  3.00046876e-16-1.81796093e-16j\n",
      " -2.33598040e-16+0.00000000e+00j -7.79566020e-17+0.00000000e+00j\n",
      "  4.06344709e-16+0.00000000e+00j  1.57202010e-16+0.00000000e+00j]\n",
      "[[ 0.03950456+0.j  0.0116565 +0.j  0.05677556+0.j ...  0.05065229+0.j\n",
      "  -0.02903494+0.j -0.00241621+0.j]\n",
      " [ 0.03135706+0.j  0.01577114+0.j  0.03206589+0.j ...  0.01888657+0.j\n",
      "  -0.00815378+0.j  0.0022973 +0.j]\n",
      " [ 0.04426116+0.j  0.0130926 +0.j -0.01257225+0.j ...  0.04678558+0.j\n",
      "  -0.00862973+0.j  0.02120534+0.j]\n",
      " ...\n",
      " [ 0.0208441 +0.j  0.0876809 +0.j -0.05629435+0.j ... -0.07702599+0.j\n",
      "   0.03135937+0.j -0.00264358+0.j]\n",
      " [ 0.00254706+0.j  0.11947567+0.j -0.04623643+0.j ...  0.05982985+0.j\n",
      "  -0.01169786+0.j  0.0469899 +0.j]\n",
      " [ 0.01038698+0.j  0.12151001+0.j -0.05546331+0.j ... -0.04658372+0.j\n",
      "  -0.06044024+0.j -0.14236045+0.j]]\n"
     ]
    }
   ],
   "source": [
    "# code for question 24\n",
    "eigvals_corr = np.array(sp500_corr)\n",
    "eigvals_corr, eigvecs_corr = la.eig(eigvals_corr)\n",
    "\n",
    "print(eigvals_corr)\n",
    "print(eigvecs_corr)"
   ]
  },
  {
   "cell_type": "markdown",
   "metadata": {
    "id": "tT1-jTDJo3MV",
    "pycharm": {
     "name": "#%% md\n"
    }
   },
   "source": [
    "**ANSWER FOR QUESTION 24**: (double click here and type your answer) The singular values of the sp500_standardized_returns are the square root of the eigenvalues present in the sp500_corr. "
   ]
  },
  {
   "cell_type": "markdown",
   "metadata": {
    "id": "YFoaTwa1o3MW",
    "pycharm": {
     "name": "#%% md\n"
    }
   },
   "source": [
    "### 25. What is the sum of the eigenvalues? Justify why the sum turns out to be what it is."
   ]
  },
  {
   "cell_type": "code",
   "execution_count": 277,
   "metadata": {
    "id": "6AC6PG2fo3MX",
    "pycharm": {
     "name": "#%%\n"
    }
   },
   "outputs": [
    {
     "name": "stdout",
     "output_type": "stream",
     "text": [
      "(488.00000000000057+2.1693674893577825e-30j)\n"
     ]
    }
   ],
   "source": [
    "# code for question 25\n",
    "\n",
    "print(np.sum(eigvals_corr))"
   ]
  },
  {
   "cell_type": "markdown",
   "metadata": {
    "id": "NTiJh4_jo3MX",
    "pycharm": {
     "name": "#%% md\n"
    }
   },
   "source": [
    "**ANSWER FOR QUESTION 25**: (double click here and type your answer) The sum of the eigen values makes sense because we are created a correlation matrix where the diagonal of the matrix has all 1's which represents each stock in relation to itself. These values are then all added up to get a sum of 488 which was the number of stocks in our CSV file."
   ]
  },
  {
   "cell_type": "markdown",
   "metadata": {
    "id": "0p0Fvoeco3MY",
    "pycharm": {
     "name": "#%% md\n"
    }
   },
   "source": [
    "### 26. How are the eigenvectors of the correlation matrix `eigvecs_corr` connected to the left singular vectors of the standardized returns matrix in Question 22? Here you are expected to derive the relation theoretically."
   ]
  },
  {
   "cell_type": "markdown",
   "metadata": {
    "id": "-oH6uQIso3MY",
    "pycharm": {
     "name": "#%% md\n"
    }
   },
   "source": [
    "**ANSWER FOR QUESTION 26**: (double click here and type your answer) The left singular vectors of the standardized returns matrix are found using the eigen vectors found in the eigvecs_corr. The eigen_vectors are found by multiplying the sp500_standardized_returns by ( one / left singular values ). Therefore, we use the left singular values to find the eigenvectors in eigen_vectors."
   ]
  },
  {
   "cell_type": "code",
   "execution_count": null,
   "metadata": {
    "id": "vB50R5b0o3MZ",
    "pycharm": {
     "name": "#%%\n"
    }
   },
   "outputs": [],
   "source": []
  }
 ],
 "metadata": {
  "colab": {
   "collapsed_sections": [],
   "name": "LASTNAME_FIRSTNAME_LinearAlgebra_project.ipynb",
   "provenance": []
  },
  "kernelspec": {
   "display_name": "Python 3 (ipykernel)",
   "language": "python",
   "name": "python3"
  },
  "language_info": {
   "codemirror_mode": {
    "name": "ipython",
    "version": 3
   },
   "file_extension": ".py",
   "mimetype": "text/x-python",
   "name": "python",
   "nbconvert_exporter": "python",
   "pygments_lexer": "ipython3",
   "version": "3.9.7"
  }
 },
 "nbformat": 4,
 "nbformat_minor": 1
}
